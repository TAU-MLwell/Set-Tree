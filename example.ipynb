{
 "cells": [
  {
   "cell_type": "code",
   "execution_count": 1,
   "metadata": {
    "collapsed": true
   },
   "outputs": [],
   "source": [
    "import settree\n",
    "from sklearn.tree import DecisionTreeClassifier\n",
    "import xgboost as xgb\n",
    "\n",
    "# PARAMS\n",
    "SET_SIZE = 10\n",
    "ITEM_DIM = 2\n",
    "N_TRAIN = 1000\n",
    "N_TEST = 1000\n",
    "SEED = 0"
   ]
  },
  {
   "cell_type": "markdown",
   "source": [
    "## Create dataset\n",
    "Create synthetic dataset of 2D point, following exp.1 in the paper. This dataset is comprised from sets of 2D points,\n",
    "a positive set contains a single point from the first quadrant. A negative set is not containing points fromt the first quadrant.x\n",
    "\n",
    "We also configure a SetDataset object to be used in conjunction with SetTree. This object stored the sets in a conviniate way."
   ],
   "metadata": {
    "collapsed": false,
    "pycharm": {
     "name": "#%% md\n"
    }
   }
  },
  {
   "cell_type": "code",
   "execution_count": 2,
   "outputs": [],
   "source": [
    "x_train, y_train = settree.get_first_quarter_data(N_TRAIN, min_items_set=SET_SIZE, max_items_set=SET_SIZE+1, dim=ITEM_DIM)\n",
    "x_test, y_test = settree.get_first_quarter_data(N_TEST, min_items_set=SET_SIZE, max_items_set=SET_SIZE+1, dim=ITEM_DIM)\n",
    "ds_train = settree.SetDataset(records=x_train, is_init=True)\n",
    "ds_test = settree.SetDataset(records=x_test, is_init=True)"
   ],
   "metadata": {
    "collapsed": false,
    "pycharm": {
     "name": "#%%\n"
    }
   }
  },
  {
   "cell_type": "markdown",
   "source": [
    "Configure the desired operation for SetTree, print the default operations list"
   ],
   "metadata": {
    "collapsed": false,
    "pycharm": {
     "name": "#%% md\n"
    }
   }
  },
  {
   "cell_type": "code",
   "execution_count": 3,
   "outputs": [
    {
     "name": "stdout",
     "output_type": "stream",
     "text": [
      "[Op (min), Op (max), Op (sum), Op (mean), Op (sec_mom_mean), Op (harm_mean), Op (geo_mean)]\n"
     ]
    }
   ],
   "source": [
    "list_of_operations = settree.OPERATIONS\n",
    "print(settree.OPERATIONS)"
   ],
   "metadata": {
    "collapsed": false,
    "pycharm": {
     "name": "#%%\n"
    }
   }
  },
  {
   "cell_type": "markdown",
   "source": [
    "## Configure and train Set-Tree model"
   ],
   "metadata": {
    "collapsed": false
   }
  },
  {
   "cell_type": "code",
   "execution_count": 4,
   "outputs": [
    {
     "name": "stdout",
     "output_type": "stream",
     "text": [
      "Started training!\n",
      "Finished training!\n",
      "Set-Tree: Test accuracy: 0.9980\n"
     ]
    }
   ],
   "source": [
    "ATTN_SET_LIMIT = 3\n",
    "USE_ATTN_SET = True\n",
    "USE_ATTN_SET_COMP = True\n",
    "MAX_DEPTH = 6\n",
    "\n",
    "set_tree_model = settree.SetTree(classifier=True,\n",
    "                                 criterion='entropy',\n",
    "                                 splitter='sklearn',\n",
    "                                 max_features=None,\n",
    "                                 min_samples_split=2,\n",
    "                                 operations=list_of_operations,\n",
    "                                 use_attention_set=USE_ATTN_SET,\n",
    "                                 use_attention_set_comp=USE_ATTN_SET_COMP,\n",
    "                                 attention_set_limit=ATTN_SET_LIMIT,\n",
    "                                 max_depth=MAX_DEPTH,\n",
    "                                 min_samples_leaf=None,\n",
    "                                 random_state=SEED)\n",
    "set_tree_model.fit(ds_train, y_train)\n",
    "set_tree_test_acc = (set_tree_model.predict(ds_test) == y_test).mean()\n",
    "print('Set-Tree: Test accuracy: {:.4f}'.format(set_tree_test_acc))"
   ],
   "metadata": {
    "collapsed": false,
    "pycharm": {
     "name": "#%%\n"
    }
   }
  },
  {
   "cell_type": "markdown",
   "source": [
    "## Configure and train regular Tree model"
   ],
   "metadata": {
    "collapsed": false
   }
  },
  {
   "cell_type": "code",
   "execution_count": 5,
   "outputs": [
    {
     "name": "stdout",
     "output_type": "stream",
     "text": [
      "Tree: Test accuracy: 0.6050\n"
     ]
    }
   ],
   "source": [
    "x_train_flat, x_test_flat = settree.flatten_datasets(ds_train, ds_test, list_of_operations)\n",
    "tree_model = DecisionTreeClassifier(criterion=\"gini\",\n",
    "                                    splitter=\"best\",\n",
    "                                    max_depth=MAX_DEPTH,\n",
    "                                    min_samples_split=2,\n",
    "                                    min_samples_leaf=1,\n",
    "                                    min_weight_fraction_leaf=0.,\n",
    "                                    max_features=None,\n",
    "                                    random_state=SEED)\n",
    "\n",
    "tree_model.fit(x_train_flat, y_train)\n",
    "tree_test_acc = (tree_model.predict(x_test_flat) == y_test).mean()\n",
    "print('Regular Tree: Test accuracy: {:.4f}'.format(tree_test_acc))"
   ],
   "metadata": {
    "collapsed": false,
    "pycharm": {
     "name": "#%%\n"
    }
   }
  }
 ],
 "metadata": {
  "kernelspec": {
   "display_name": "Python 3",
   "language": "python",
   "name": "python3"
  },
  "language_info": {
   "codemirror_mode": {
    "name": "ipython",
    "version": 2
   },
   "file_extension": ".py",
   "mimetype": "text/x-python",
   "name": "python",
   "nbconvert_exporter": "python",
   "pygments_lexer": "ipython2",
   "version": "2.7.6"
  }
 },
 "nbformat": 4,
 "nbformat_minor": 0
}